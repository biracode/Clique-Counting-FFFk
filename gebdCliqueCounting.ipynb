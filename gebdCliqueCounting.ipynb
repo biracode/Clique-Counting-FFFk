{
  "cells": [
    {
      "cell_type": "markdown",
      "metadata": {
        "id": "j9r37NtzEuHU"
      },
      "source": [
        "#Preliminari\n"
      ]
    },
    {
      "cell_type": "code",
      "execution_count": 1,
      "metadata": {
        "id": "C4OuZGRRsMQN"
      },
      "outputs": [],
      "source": [
        "!apt-get install openjdk-8-jdk-headless -qq > /dev/null\n",
        "!wget -q https://downloads.apache.org/spark/spark-3.0.3/spark-3.0.3-bin-hadoop2.7.tgz\n",
        "!tar xf spark-3.0.3-bin-hadoop2.7.tgz\n",
        "!pip install -q findspark"
      ]
    },
    {
      "cell_type": "code",
      "execution_count": 2,
      "metadata": {
        "id": "vX50mGzKsTSK"
      },
      "outputs": [],
      "source": [
        "import os\n",
        "import findspark\n",
        "os.environ[\"JAVA_HOME\"] = \"/usr/lib/jvm/java-8-openjdk-amd64\"\n",
        "os.environ[\"SPARK_HOME\"] = \"/content/spark-3.0.3-bin-hadoop2.7\""
      ]
    },
    {
      "cell_type": "code",
      "execution_count": 3,
      "metadata": {
        "colab": {
          "base_uri": "https://localhost:8080/"
        },
        "id": "4e5BpuAKsW_X",
        "outputId": "d90823d7-5d0c-4311-c46b-d8aeb217517c"
      },
      "outputs": [
        {
          "output_type": "stream",
          "name": "stdout",
          "text": [
            "Looking in indexes: https://pypi.org/simple, https://us-python.pkg.dev/colab-wheels/public/simple/\n",
            "Collecting pyspark\n",
            "  Downloading pyspark-3.3.0.tar.gz (281.3 MB)\n",
            "\u001b[K     |████████████████████████████████| 281.3 MB 35 kB/s \n",
            "\u001b[?25hCollecting py4j==0.10.9.5\n",
            "  Downloading py4j-0.10.9.5-py2.py3-none-any.whl (199 kB)\n",
            "\u001b[K     |████████████████████████████████| 199 kB 54.2 MB/s \n",
            "\u001b[?25hBuilding wheels for collected packages: pyspark\n",
            "  Building wheel for pyspark (setup.py) ... \u001b[?25l\u001b[?25hdone\n",
            "  Created wheel for pyspark: filename=pyspark-3.3.0-py2.py3-none-any.whl size=281764026 sha256=52b34b495ae307d8f9caa7442c90323d243643c0c7f326539d00375f8dcd6bf5\n",
            "  Stored in directory: /root/.cache/pip/wheels/7a/8e/1b/f73a52650d2e5f337708d9f6a1750d451a7349a867f928b885\n",
            "Successfully built pyspark\n",
            "Installing collected packages: py4j, pyspark\n",
            "Successfully installed py4j-0.10.9.5 pyspark-3.3.0\n"
          ]
        }
      ],
      "source": [
        "! pip install pyspark"
      ]
    },
    {
      "cell_type": "code",
      "execution_count": 4,
      "metadata": {
        "id": "_rZtM6C8sVXt"
      },
      "outputs": [],
      "source": [
        "findspark.init()"
      ]
    },
    {
      "cell_type": "code",
      "execution_count": 5,
      "metadata": {
        "id": "TL2N4lqEsZLN"
      },
      "outputs": [],
      "source": [
        "from pyspark import SparkContext, SparkConf"
      ]
    },
    {
      "cell_type": "code",
      "execution_count": 6,
      "metadata": {
        "id": "Z-aWiNGXsaze"
      },
      "outputs": [],
      "source": [
        "conf = SparkConf().setAppName('GEBD2').setMaster(\"local[*]\")\n",
        "sc = SparkContext(conf=conf)"
      ]
    },
    {
      "cell_type": "markdown",
      "source": [
        "#Importo dataset"
      ],
      "metadata": {
        "id": "AjCjtfdMLUnZ"
      }
    },
    {
      "cell_type": "code",
      "source": [
        "from google.colab import drive\n",
        "drive.mount('/content/drive')"
      ],
      "metadata": {
        "colab": {
          "base_uri": "https://localhost:8080/"
        },
        "id": "oiGl6_h5wIL_",
        "outputId": "d38ac454-7184-45be-9597-cad83877d5f9"
      },
      "execution_count": 7,
      "outputs": [
        {
          "output_type": "stream",
          "name": "stdout",
          "text": [
            "Mounted at /content/drive\n"
          ]
        }
      ]
    },
    {
      "cell_type": "code",
      "source": [
        "import pandas as pd"
      ],
      "metadata": {
        "id": "iyIK9CsiupoD"
      },
      "execution_count": 8,
      "outputs": []
    },
    {
      "cell_type": "markdown",
      "source": [
        "DATASET BRIGHTKITE"
      ],
      "metadata": {
        "id": "MicQvW_1IXEr"
      }
    },
    {
      "cell_type": "code",
      "source": [
        "path = \"/content/drive/MyDrive/data2.csv\"\n",
        "df_bonus = pd.read_csv(path)"
      ],
      "metadata": {
        "id": "ot2yNoTgS9EG"
      },
      "execution_count": 9,
      "outputs": []
    },
    {
      "cell_type": "code",
      "source": [
        "derived_df = df_bonus[['From', 'To']]"
      ],
      "metadata": {
        "id": "jpW1WvXkIciV"
      },
      "execution_count": 10,
      "outputs": []
    },
    {
      "cell_type": "code",
      "source": [
        "derived_df"
      ],
      "metadata": {
        "id": "JNNETbKQVNbM",
        "colab": {
          "base_uri": "https://localhost:8080/",
          "height": 424
        },
        "outputId": "e51b65ca-14b3-4a1c-8ea1-41a9c955e9cc"
      },
      "execution_count": 11,
      "outputs": [
        {
          "output_type": "execute_result",
          "data": {
            "text/plain": [
              "         From     To\n",
              "0           0      2\n",
              "1           0      3\n",
              "2           0      4\n",
              "3           0      5\n",
              "4           0      6\n",
              "...       ...    ...\n",
              "428150  58225  58226\n",
              "428151  58225  58227\n",
              "428152  58226  58220\n",
              "428153  58226  58225\n",
              "428154  58227  58225\n",
              "\n",
              "[428155 rows x 2 columns]"
            ],
            "text/html": [
              "\n",
              "  <div id=\"df-fb008042-b41c-4c57-b9eb-6a6ae1a381ba\">\n",
              "    <div class=\"colab-df-container\">\n",
              "      <div>\n",
              "<style scoped>\n",
              "    .dataframe tbody tr th:only-of-type {\n",
              "        vertical-align: middle;\n",
              "    }\n",
              "\n",
              "    .dataframe tbody tr th {\n",
              "        vertical-align: top;\n",
              "    }\n",
              "\n",
              "    .dataframe thead th {\n",
              "        text-align: right;\n",
              "    }\n",
              "</style>\n",
              "<table border=\"1\" class=\"dataframe\">\n",
              "  <thead>\n",
              "    <tr style=\"text-align: right;\">\n",
              "      <th></th>\n",
              "      <th>From</th>\n",
              "      <th>To</th>\n",
              "    </tr>\n",
              "  </thead>\n",
              "  <tbody>\n",
              "    <tr>\n",
              "      <th>0</th>\n",
              "      <td>0</td>\n",
              "      <td>2</td>\n",
              "    </tr>\n",
              "    <tr>\n",
              "      <th>1</th>\n",
              "      <td>0</td>\n",
              "      <td>3</td>\n",
              "    </tr>\n",
              "    <tr>\n",
              "      <th>2</th>\n",
              "      <td>0</td>\n",
              "      <td>4</td>\n",
              "    </tr>\n",
              "    <tr>\n",
              "      <th>3</th>\n",
              "      <td>0</td>\n",
              "      <td>5</td>\n",
              "    </tr>\n",
              "    <tr>\n",
              "      <th>4</th>\n",
              "      <td>0</td>\n",
              "      <td>6</td>\n",
              "    </tr>\n",
              "    <tr>\n",
              "      <th>...</th>\n",
              "      <td>...</td>\n",
              "      <td>...</td>\n",
              "    </tr>\n",
              "    <tr>\n",
              "      <th>428150</th>\n",
              "      <td>58225</td>\n",
              "      <td>58226</td>\n",
              "    </tr>\n",
              "    <tr>\n",
              "      <th>428151</th>\n",
              "      <td>58225</td>\n",
              "      <td>58227</td>\n",
              "    </tr>\n",
              "    <tr>\n",
              "      <th>428152</th>\n",
              "      <td>58226</td>\n",
              "      <td>58220</td>\n",
              "    </tr>\n",
              "    <tr>\n",
              "      <th>428153</th>\n",
              "      <td>58226</td>\n",
              "      <td>58225</td>\n",
              "    </tr>\n",
              "    <tr>\n",
              "      <th>428154</th>\n",
              "      <td>58227</td>\n",
              "      <td>58225</td>\n",
              "    </tr>\n",
              "  </tbody>\n",
              "</table>\n",
              "<p>428155 rows × 2 columns</p>\n",
              "</div>\n",
              "      <button class=\"colab-df-convert\" onclick=\"convertToInteractive('df-fb008042-b41c-4c57-b9eb-6a6ae1a381ba')\"\n",
              "              title=\"Convert this dataframe to an interactive table.\"\n",
              "              style=\"display:none;\">\n",
              "        \n",
              "  <svg xmlns=\"http://www.w3.org/2000/svg\" height=\"24px\"viewBox=\"0 0 24 24\"\n",
              "       width=\"24px\">\n",
              "    <path d=\"M0 0h24v24H0V0z\" fill=\"none\"/>\n",
              "    <path d=\"M18.56 5.44l.94 2.06.94-2.06 2.06-.94-2.06-.94-.94-2.06-.94 2.06-2.06.94zm-11 1L8.5 8.5l.94-2.06 2.06-.94-2.06-.94L8.5 2.5l-.94 2.06-2.06.94zm10 10l.94 2.06.94-2.06 2.06-.94-2.06-.94-.94-2.06-.94 2.06-2.06.94z\"/><path d=\"M17.41 7.96l-1.37-1.37c-.4-.4-.92-.59-1.43-.59-.52 0-1.04.2-1.43.59L10.3 9.45l-7.72 7.72c-.78.78-.78 2.05 0 2.83L4 21.41c.39.39.9.59 1.41.59.51 0 1.02-.2 1.41-.59l7.78-7.78 2.81-2.81c.8-.78.8-2.07 0-2.86zM5.41 20L4 18.59l7.72-7.72 1.47 1.35L5.41 20z\"/>\n",
              "  </svg>\n",
              "      </button>\n",
              "      \n",
              "  <style>\n",
              "    .colab-df-container {\n",
              "      display:flex;\n",
              "      flex-wrap:wrap;\n",
              "      gap: 12px;\n",
              "    }\n",
              "\n",
              "    .colab-df-convert {\n",
              "      background-color: #E8F0FE;\n",
              "      border: none;\n",
              "      border-radius: 50%;\n",
              "      cursor: pointer;\n",
              "      display: none;\n",
              "      fill: #1967D2;\n",
              "      height: 32px;\n",
              "      padding: 0 0 0 0;\n",
              "      width: 32px;\n",
              "    }\n",
              "\n",
              "    .colab-df-convert:hover {\n",
              "      background-color: #E2EBFA;\n",
              "      box-shadow: 0px 1px 2px rgba(60, 64, 67, 0.3), 0px 1px 3px 1px rgba(60, 64, 67, 0.15);\n",
              "      fill: #174EA6;\n",
              "    }\n",
              "\n",
              "    [theme=dark] .colab-df-convert {\n",
              "      background-color: #3B4455;\n",
              "      fill: #D2E3FC;\n",
              "    }\n",
              "\n",
              "    [theme=dark] .colab-df-convert:hover {\n",
              "      background-color: #434B5C;\n",
              "      box-shadow: 0px 1px 3px 1px rgba(0, 0, 0, 0.15);\n",
              "      filter: drop-shadow(0px 1px 2px rgba(0, 0, 0, 0.3));\n",
              "      fill: #FFFFFF;\n",
              "    }\n",
              "  </style>\n",
              "\n",
              "      <script>\n",
              "        const buttonEl =\n",
              "          document.querySelector('#df-fb008042-b41c-4c57-b9eb-6a6ae1a381ba button.colab-df-convert');\n",
              "        buttonEl.style.display =\n",
              "          google.colab.kernel.accessAllowed ? 'block' : 'none';\n",
              "\n",
              "        async function convertToInteractive(key) {\n",
              "          const element = document.querySelector('#df-fb008042-b41c-4c57-b9eb-6a6ae1a381ba');\n",
              "          const dataTable =\n",
              "            await google.colab.kernel.invokeFunction('convertToInteractive',\n",
              "                                                     [key], {});\n",
              "          if (!dataTable) return;\n",
              "\n",
              "          const docLinkHtml = 'Like what you see? Visit the ' +\n",
              "            '<a target=\"_blank\" href=https://colab.research.google.com/notebooks/data_table.ipynb>data table notebook</a>'\n",
              "            + ' to learn more about interactive tables.';\n",
              "          element.innerHTML = '';\n",
              "          dataTable['output_type'] = 'display_data';\n",
              "          await google.colab.output.renderOutput(dataTable, element);\n",
              "          const docLink = document.createElement('div');\n",
              "          docLink.innerHTML = docLinkHtml;\n",
              "          element.appendChild(docLink);\n",
              "        }\n",
              "      </script>\n",
              "    </div>\n",
              "  </div>\n",
              "  "
            ]
          },
          "metadata": {},
          "execution_count": 11
        }
      ]
    },
    {
      "cell_type": "code",
      "source": [
        "fromID = derived_df['From'].tolist()\n",
        "toID = derived_df['To'].tolist()\n"
      ],
      "metadata": {
        "id": "z-smLi3t0R4_"
      },
      "execution_count": 12,
      "outputs": []
    },
    {
      "cell_type": "code",
      "source": [
        "l = len(fromID)\n",
        "fromID1 = fromID\n",
        "toID1 = toID\n",
        "fromtoID = list()"
      ],
      "metadata": {
        "id": "ZhTZuW6Z1Rj6"
      },
      "execution_count": 13,
      "outputs": []
    },
    {
      "cell_type": "code",
      "source": [
        "for i in range(0,l):\n",
        "     \n",
        "     fromtoID.insert(i,((fromID1[i]),(toID1[i])))\n",
        "\n",
        "fromtoID.append((0,1)) #nel dataset manca il primo arco, aggiungiamo manualmente\n"
      ],
      "metadata": {
        "id": "M1JwFHD63370"
      },
      "execution_count": 14,
      "outputs": []
    },
    {
      "cell_type": "code",
      "source": [
        "len(fromtoID)"
      ],
      "metadata": {
        "colab": {
          "base_uri": "https://localhost:8080/"
        },
        "id": "mkFHZuD04Epv",
        "outputId": "cdd8b9ea-1c5f-4c84-f401-6d3cc8a51560"
      },
      "execution_count": 15,
      "outputs": [
        {
          "output_type": "execute_result",
          "data": {
            "text/plain": [
              "428156"
            ]
          },
          "metadata": {},
          "execution_count": 15
        }
      ]
    },
    {
      "cell_type": "markdown",
      "source": [
        "#Funzioni"
      ],
      "metadata": {
        "id": "PY-Xf029JzMz"
      }
    },
    {
      "cell_type": "code",
      "source": [
        "import time\n",
        "import numpy as np\n",
        "from operator import add\n",
        "\n",
        "def filter1(x):\n",
        "  '''Dato un elemento nella forma <(i,j,a,b)>\n",
        "     Restitusce <(i,j)> se a e b rispettano una determinata condizione.\n",
        "     Funzione usata nel map1.\n",
        "  '''\n",
        "  if x[1]<x[2] or (x[1]==x[2] and x[0][0]<x[0][1]):\n",
        "    return x\n",
        "\n",
        "def to_list(a):\n",
        "     return [a]\n",
        "def append(a, b):\n",
        "     a.append(b)\n",
        "     return a\n",
        "def extend(a, b):\n",
        "     a.extend(b)\n",
        "     return a\n",
        " \n",
        "def trova_grado(x):\n",
        "  '''Ammette in input l'etichetta di un nodo.\n",
        "     Restituisce in output il relativo grado.\n",
        "     Usata per facilitare la fase di map1.'''\n",
        "  grado = int(gradinp[solonodi == x][0][1])\n",
        "  return grado\n",
        "\n",
        "def map2(x):\n",
        "  '''La funzione map2(x) ammette in input un elemento del tipo\n",
        "     <int(n),{n1,n2,..,nq} e restituisce in output\n",
        "     <int(n),(ni,nj)> per ogni possibile coppia estratta dall'insieme\n",
        "     {n1,n2,..,nq} tale che ni è dominato da nj.\n",
        "  ''' \n",
        "  output = []\n",
        "  nodo = x[0]\n",
        "  nodo = int(nodo)\n",
        "  alto_vicinato_x = x[1]\n",
        "  len_alto_vicinato_x = len(alto_vicinato_x)\n",
        "  \n",
        "  k = 0\n",
        "  j = -1\n",
        "\n",
        "  for i in alto_vicinato_x[0:len(alto_vicinato_x)-1]:\n",
        "    grado1 = trova_grado(i)\n",
        "    nodo1 = i\n",
        "    soglia =  len(alto_vicinato_x)-1\n",
        "    j += 1\n",
        "    k = 1 + j\n",
        " \n",
        "    while k <= soglia:\n",
        "      nodo2 = alto_vicinato_x[k]\n",
        "      nodo2 = int(nodo2)\n",
        "      grado2 = trova_grado(nodo2)\n",
        "\n",
        "      if grado1 < grado2:\n",
        "        output.append((nodo,(nodo1,nodo2)))\n",
        "        k += 1\n",
        "      elif grado1 == grado2 and nodo1 < nodo2:\n",
        "        output.append((nodo,(nodo1,nodo2)))\n",
        "        k += 1\n",
        "      elif grado1 > grado2:\n",
        "        output.append((nodo,(nodo2,nodo1)))\n",
        "        k += 1\n",
        "      else:\n",
        "        output.append((nodo,(nodo2,nodo1)))\n",
        "        k += 1\n",
        "\n",
        "  return output\n",
        "\n",
        "def map3(x):\n",
        "  '''La funzione map3 ammette in input una RDD con una struttura <i,{n1,..,np}>\n",
        "     e restituisce in output una RDD del tipo <(i,n1)>, .., <(i,np)>\n",
        "  '''\n",
        "  output=[]\n",
        "  for i in x[1]:\n",
        "    output.append( (i,x[0]) )\n",
        "  return output\n",
        "\n",
        " "
      ],
      "metadata": {
        "id": "U9bdxGrjKDjB"
      },
      "execution_count": 16,
      "outputs": []
    },
    {
      "cell_type": "markdown",
      "metadata": {
        "id": "k3gBKvIuFTHq"
      },
      "source": [
        "#Implementazione FFFk su grafo"
      ]
    },
    {
      "cell_type": "code",
      "source": [
        "def calcola_triangoli(lista_archi, direzionato=False):\n",
        " \n",
        " '''La funzione calcola_trinagoli() ammette come input\n",
        "    la lista degli archi del grafo di interesse.\n",
        "    Se il grafo è direzionato\n",
        "    [ovvero esiste arco (i,j), ma non è presente (j,i)]\n",
        "    impostare direzionato = True \n",
        "    in quanto l'algoritmo lavora su grafi non direzionati,\n",
        "    ciò renderà il grafo non direzionato'''\n",
        "\n",
        "\n",
        " if direzionato == True:\n",
        "   for i in lista_archi:\n",
        "     lista_archi.append((i[1],i[0]))\n",
        " \n",
        " start = time.time()\n",
        "\n",
        " \n",
        " ### ROUND1 ###\n",
        "\n",
        " k = 3\n",
        "  \n",
        " dArchi0 = lista_archi\n",
        " dArchi0 = sc.parallelize(dArchi0)\n",
        "\n",
        " # Map1\n",
        " # Elaboro gradi nodi\n",
        " dGradi = dArchi0.map(lambda x: (x[0],1)).reduceByKey(lambda x,y: x+y) \n",
        " # Salvo i gradi appena elaborati in una lista\n",
        " gradi = dGradi.collect()\n",
        " \n",
        "\n",
        " # Salvo nodi e gradi in due liste separate\n",
        " gradinp = np.array(gradi)\n",
        " solonodi = gradinp[0:,0]\n",
        " \n",
        " def trova_grado(x):\n",
        "  '''Ammette in input l'etichetta di un nodo.\n",
        "     Restituisce in output il relativo grado.\n",
        "     Usata per facilitare la fase di map1.'''\n",
        "  grado = int(gradinp[solonodi == x][0][1])\n",
        "  return grado\n",
        "\n",
        " #input map 1: passo da <(i,j)> a <(i,j),grado(i),grado(j)>\n",
        " dArchi1 = dArchi0.map(lambda x:(x,trova_grado(x[0]),trova_grado(x[1])))\n",
        " \n",
        "\n",
        " # output map 1: filtro la metà degli elementi di dArchi1 in modo che\n",
        " # ciascun elemento della nuova RDD sia del tipo <i,j> con i dominato da j \n",
        " dArchi2 = dArchi1.filter(lambda x:filter1(x)).map(lambda x: (x[0][0],x[0][1]))\n",
        "\n",
        " # trovo alto vicinato\n",
        " dArchi2_1 = dArchi2.combineByKey(to_list,append,extend)\n",
        "\n",
        " # output Reduce1: seleziono nodi x aventi cardinalità di gamma+(x)>=k-1\n",
        " dArchi3 = dArchi2_1.filter(lambda x:len(x[1])>=k-1)\n",
        "\n",
        "\n",
        "\n",
        " ### ROUND 2 ###\n",
        " \n",
        " def map2(x):\n",
        "  '''La funzione map2(x) ammette in input un elemento del tipo\n",
        "     <int(n),{n1,n2,..,nq} e restituisce in output\n",
        "     <int(n),(ni,nj)> per ogni possibile coppia estratta dall'insieme\n",
        "     {n1,n2,..,nq} tale che ni è dominato da nj.\n",
        "  ''' \n",
        "  output = []\n",
        "  nodo = x[0]\n",
        "  nodo = int(nodo)\n",
        "  alto_vicinato_x = x[1]\n",
        "  len_alto_vicinato_x = len(alto_vicinato_x)\n",
        "  \n",
        "  k = 0\n",
        "  j = -1\n",
        "\n",
        "  for i in alto_vicinato_x[0:len(alto_vicinato_x)-1]:\n",
        "    grado1 = trova_grado(i)\n",
        "    nodo1 = i\n",
        "    soglia =  len(alto_vicinato_x)-1\n",
        "    j += 1\n",
        "    k = 1 + j\n",
        " \n",
        "    while k <= soglia:\n",
        "      nodo2 = alto_vicinato_x[k]\n",
        "      nodo2 = int(nodo2)\n",
        "      grado2 = trova_grado(nodo2)\n",
        "\n",
        "      if grado1 < grado2:\n",
        "        output.append((nodo,(nodo1,nodo2)))\n",
        "        k += 1\n",
        "      elif grado1 == grado2 and nodo1 < nodo2:\n",
        "        output.append((nodo,(nodo1,nodo2)))\n",
        "        k += 1\n",
        "      elif grado1 > grado2:\n",
        "        output.append((nodo,(nodo2,nodo1)))\n",
        "        k += 1\n",
        "      else:\n",
        "        output.append((nodo,(nodo2,nodo1)))\n",
        "        k += 1\n",
        "\n",
        "  return output\n",
        "\n",
        " # Map2\n",
        " \n",
        " #map2.1\n",
        " #output map 2 per input del tipo 1 (input tipo <u,gamma+(u)>) \n",
        " #inverto poi chiave valore ottenendo output\n",
        " #Si passa da una struttura del tipo <n,{n1,..,nq}> a \n",
        " #<(n,n1),n>,.., <(n,nq),n> per ogni n della RDD\n",
        " dArchi4 = dArchi3.flatMap(lambda x: map2(x)).map(lambda x: (x[1],x[0]))\n",
        "\n",
        " #map2.2 (senza <(u,v),0>). Riprendiamo output map1 e aggiungiamo $\n",
        " dArchi5=dArchi2.map(lambda x: (x,'$'))\n",
        "\n",
        " #output map2.1 (archi confermati)\n",
        " #Solo una parte degli archi in chiave di dArchi4 sono effettivamente archi,\n",
        " #facciamo un join per eliminare i \"non archi\"\n",
        " dArchi6 = dArchi5.join(dArchi4).map(lambda x:(x[0],x[1][1]))\n",
        "\n",
        " # Reduce2: un reducebykey sulla ultima RDD calcolata\n",
        " dArchi7 = dArchi6.combineByKey(to_list, append, extend)\n",
        "\n",
        "\n",
        "\n",
        " ### ROUND 3 ###\n",
        "\n",
        " # Map3: si passa da una struttura <(i,j),{n1,..,np}> a una struttura\n",
        " # <(i,j),n1>, .., <(i,j),np> per ogni (i,j) appartenente a dArchi7\n",
        " \n",
        " dArchi8 = dArchi7.flatMap(lambda x: map3(x))\n",
        "\n",
        " # Reduce3: per ciascuna chiave di dArchi8 \n",
        " # si conta il numero di elementi presenti nella parte valore della rispettiva\n",
        " # chiave\n",
        " dArchi9 = dArchi8.map(lambda x: (x[0],len([x[0]])))\n",
        "\n",
        " dArchi10=dArchi9.reduceByKey(lambda x,y: x+y)\n",
        "\n",
        " # Calcolo numero clique come somma di queste \"taglie\"\n",
        " numeroTriangoli = dArchi10.map(lambda x: x[1]).reduce(add)\n",
        " end = time.time()\n",
        " \n",
        " return(f'\"Il numero di triangoli nel grafo è:\" {numeroTriangoli})'\n",
        "        f'\"Per calcolare il numero di triangoli nel grafo sono stati necessari minuti:\" {round((end-start)/60,2)})')\n",
        " "
      ],
      "metadata": {
        "id": "4KZTsJ4ebgRw"
      },
      "execution_count": 17,
      "outputs": []
    },
    {
      "cell_type": "code",
      "source": [
        "calcola_triangoli(fromtoID)"
      ],
      "metadata": {
        "id": "xuXd2fRgmhdb",
        "colab": {
          "base_uri": "https://localhost:8080/",
          "height": 53
        },
        "outputId": "075e123f-08f9-4a0f-9b7c-2e917c647986"
      },
      "execution_count": 18,
      "outputs": [
        {
          "output_type": "execute_result",
          "data": {
            "text/plain": [
              "'\"Il numero di triangoli nel grafo è:\" 494728)\"Per calcolare il numero di triangoli nel grafo sono stati necessari minuti:\" 6.13)'"
            ],
            "application/vnd.google.colaboratory.intrinsic+json": {
              "type": "string"
            }
          },
          "metadata": {},
          "execution_count": 18
        }
      ]
    }
  ],
  "metadata": {
    "colab": {
      "collapsed_sections": [
        "j9r37NtzEuHU",
        "AjCjtfdMLUnZ",
        "PY-Xf029JzMz",
        "k3gBKvIuFTHq"
      ],
      "name": "CliqueCounting-2.ipynb",
      "provenance": []
    },
    "kernelspec": {
      "display_name": "Python 3",
      "name": "python3"
    },
    "language_info": {
      "name": "python"
    }
  },
  "nbformat": 4,
  "nbformat_minor": 0
}